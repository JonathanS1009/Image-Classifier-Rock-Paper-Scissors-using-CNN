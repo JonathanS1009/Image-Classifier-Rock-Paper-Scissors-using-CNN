{
  "nbformat": 4,
  "nbformat_minor": 0,
  "metadata": {
    "colab": {
      "name": "Submission - Machine Learning - Hazmi Cokro.ipynb",
      "provenance": [],
      "collapsed_sections": []
    },
    "kernelspec": {
      "name": "python3",
      "display_name": "Python 3"
    }
  },
  "cells": [
    {
      "cell_type": "markdown",
      "metadata": {
        "id": "D7cM-SjSDjjV"
      },
      "source": [
        "\n",
        "Mochammad Hazmi Cokro Mandiri\n",
        "> Dataset Rock Paper Scissors\n",
        "\n"
      ]
    },
    {
      "cell_type": "markdown",
      "metadata": {
        "id": "0ORXk9vMG_ro"
      },
      "source": [
        "**Library**"
      ]
    },
    {
      "cell_type": "code",
      "metadata": {
        "id": "zF9WdvSCbzAI"
      },
      "source": [
        "# Library u/ ekstrak dan atur lokasi \n",
        "import zipfile\n",
        "import os\n",
        "\n",
        "# Library u/ machine learning Tensorflow\n",
        "from tensorflow.keras.preprocessing.image import ImageDataGenerator\n",
        "from tensorflow.keras.models import Sequential\n",
        "from tensorflow.keras.layers import Conv2D, MaxPooling2D, Activation, Dense, Flatten\n",
        "from tensorflow.keras.layers import Dropout\n",
        "from tensorflow.keras.optimizers import Adam\n",
        "from tensorflow.keras.callbacks import EarlyStopping\n",
        "\n",
        "# Library u/  upload file gcolabs dan plot\n",
        "from keras.preprocessing import image\n",
        "from google.colab import files\n",
        "import numpy as np\n",
        "import matplotlib.pyplot as plt\n",
        "import matplotlib.image as mpimg\n",
        "%matplotlib inline"
      ],
      "execution_count": null,
      "outputs": []
    },
    {
      "cell_type": "markdown",
      "metadata": {
        "id": "O3RWUIAHG9Fa"
      },
      "source": [
        "**Download Dataset Rock Paper Scissors**"
      ]
    },
    {
      "cell_type": "code",
      "metadata": {
        "id": "E9i0Jmz-G7-3",
        "colab": {
          "base_uri": "https://localhost:8080/",
          "height": 215
        },
        "outputId": "bd34be6b-764f-4423-b612-b7ebdf2e377c"
      },
      "source": [
        "# Download dataset menggunakan wget\n",
        "!wget https://dicodingacademy.blob.core.windows.net/picodiploma/ml_pemula_academy/rockpaperscissors.zip"
      ],
      "execution_count": null,
      "outputs": [
        {
          "output_type": "stream",
          "text": [
            "--2020-07-20 21:46:57--  https://dicodingacademy.blob.core.windows.net/picodiploma/ml_pemula_academy/rockpaperscissors.zip\n",
            "Resolving dicodingacademy.blob.core.windows.net (dicodingacademy.blob.core.windows.net)... 52.239.197.36\n",
            "Connecting to dicodingacademy.blob.core.windows.net (dicodingacademy.blob.core.windows.net)|52.239.197.36|:443... connected.\n",
            "HTTP request sent, awaiting response... 200 OK\n",
            "Length: 322873683 (308M) [application/zip]\n",
            "Saving to: ‘rockpaperscissors.zip’\n",
            "\n",
            "rockpaperscissors.z 100%[===================>] 307.92M  8.24MB/s    in 52s     \n",
            "\n",
            "2020-07-20 21:47:50 (5.92 MB/s) - ‘rockpaperscissors.zip’ saved [322873683/322873683]\n",
            "\n"
          ],
          "name": "stdout"
        }
      ]
    },
    {
      "cell_type": "markdown",
      "metadata": {
        "id": "GnB-5A2tKbsj"
      },
      "source": [
        "**Unzip / Ekstrak Dataset**"
      ]
    },
    {
      "cell_type": "code",
      "metadata": {
        "id": "P_pw9HiSKaZ8"
      },
      "source": [
        "# Ekstrak file tipe zip\n",
        "ekstrak_zip = 'rockpaperscissors.zip'\n",
        "out_zip = zipfile.ZipFile(ekstrak_zip, 'r')\n",
        "out_zip.extractall('/dataset')\n",
        "out_zip.close()"
      ],
      "execution_count": null,
      "outputs": []
    },
    {
      "cell_type": "markdown",
      "metadata": {
        "id": "YYo8wrJGtBFR"
      },
      "source": [
        "**Atur Lokasi Dataset RockPaperScissors**"
      ]
    },
    {
      "cell_type": "code",
      "metadata": {
        "id": "DmrQl_v7w-U6"
      },
      "source": [
        "# Mengatur Lokasi dataset yang akan digunakan\n",
        "dir_dataset = \"/dataset/rockpaperscissors/rps-cv-images\"\n",
        "dir_paper = os.path.join(\"/dataset/rockpaperscissors/rps-cv-images/paper\")\n",
        "dir_rock = os.path.join(\"/dataset/rockpaperscissors/rps-cv-images/rock\")\n",
        "dir_scissors = os.path.join(\"/dataset/rockpaperscissors/rps-cv-images/scissors\")"
      ],
      "execution_count": null,
      "outputs": []
    },
    {
      "cell_type": "code",
      "metadata": {
        "id": "tJLTUbFTx7LC",
        "colab": {
          "base_uri": "https://localhost:8080/",
          "height": 71
        },
        "outputId": "a64a3fc8-7177-4c97-c58c-467c9c9a932e"
      },
      "source": [
        "# Mengecek jumlah data rock paper scissor\n",
        "total_paper = len(os.listdir(dir_paper))\n",
        "total_rock = len(os.listdir(dir_rock))\n",
        "total_scissors = len(os.listdir(dir_scissors))\n",
        "\n",
        "# Mencetak jumlah data rock paper scissor\n",
        "print(\"Total Data Paper Image      : \",total_paper)\n",
        "print(\"Total Data Rock Image       : \",total_rock)\n",
        "print(\"Total Data Scissors Image  : \",total_scissors)"
      ],
      "execution_count": null,
      "outputs": [
        {
          "output_type": "stream",
          "text": [
            "Total Data Paper Image      :  712\n",
            "Total Data Rock Image       :  726\n",
            "Total Data Scissors Image  :  750\n"
          ],
          "name": "stdout"
        }
      ]
    },
    {
      "cell_type": "markdown",
      "metadata": {
        "id": "X1unL1W91NUf"
      },
      "source": [
        "**Implementasi Image Data Generator Tensorflow untuk pengolahan gambar**"
      ]
    },
    {
      "cell_type": "code",
      "metadata": {
        "id": "5zk80vVd1M9d"
      },
      "source": [
        "# Pembuatan Train dan Validation  data generator \n",
        "# Untuk augmentasi gambar\n",
        "\n",
        "#Ukuran validation 40% dari dataset\n",
        "val_size = 0.4\n",
        "\n",
        "Train_datagen = ImageDataGenerator(\n",
        "    rotation_range = 30,\n",
        "    brightness_range = [0.2,1.0],\n",
        "    shear_range = 0.2,\n",
        "    zoom_range = 0.2,\n",
        "    horizontal_flip = True,\n",
        "    fill_mode = \"nearest\",\n",
        "    rescale = 1./255,\n",
        "    validation_split = val_size\n",
        ")\n",
        "\n",
        "Validation_datagen = ImageDataGenerator(\n",
        "    rotation_range = 30,\n",
        "    brightness_range = [0.2,1.0],\n",
        "    shear_range = 0.2,\n",
        "    zoom_range = 0.2,\n",
        "    horizontal_flip = True,\n",
        "    fill_mode = \"nearest\",\n",
        "    rescale = 1./255,\n",
        "    validation_split = val_size\n",
        ")"
      ],
      "execution_count": null,
      "outputs": []
    },
    {
      "cell_type": "markdown",
      "metadata": {
        "id": "auwMKpF2L8el"
      },
      "source": [
        "**Split Dataset -> Train dan Validation | Ukuran Validasi 40 %**"
      ]
    },
    {
      "cell_type": "code",
      "metadata": {
        "id": "8Fas1rK7L7vz",
        "colab": {
          "base_uri": "https://localhost:8080/",
          "height": 53
        },
        "outputId": "c66657fa-42dd-43d9-b580-6aff4ba97a63"
      },
      "source": [
        "# Hasil split dataset dengan \n",
        "# Train : 1314 | Validation :  874\n",
        "\n",
        "# Mengatur lebar dan tinggi gambar\n",
        "img_width = 150\n",
        "img_height = 150\n",
        "\n",
        "# Train dan Validation generator  dengan mode categorical\n",
        "Train_generator = Train_datagen.flow_from_directory(\n",
        "    dir_dataset,\n",
        "    target_size = (img_width,img_height),\n",
        "    color_mode = \"rgb\",\n",
        "    class_mode = \"categorical\",\n",
        "    batch_size = 16,\n",
        "    shuffle = True,\n",
        "    subset = \"training\"\n",
        ")\n",
        "\n",
        "Validation_generator = Validation_datagen.flow_from_directory(\n",
        "    dir_dataset,\n",
        "    target_size = (img_width,img_height),\n",
        "    color_mode = \"rgb\",\n",
        "    class_mode = \"categorical\",\n",
        "    batch_size = 16,\n",
        "    shuffle = False,\n",
        "    subset = \"validation\"\n",
        ")"
      ],
      "execution_count": null,
      "outputs": [
        {
          "output_type": "stream",
          "text": [
            "Found 1314 images belonging to 3 classes.\n",
            "Found 874 images belonging to 3 classes.\n"
          ],
          "name": "stdout"
        }
      ]
    },
    {
      "cell_type": "markdown",
      "metadata": {
        "id": "Y9Ey7EE7-SzD"
      },
      "source": [
        "**Model Sequential + Dropout Regularization**"
      ]
    },
    {
      "cell_type": "code",
      "metadata": {
        "id": "t5ly6Npk-R1A"
      },
      "source": [
        "# Pembuatan Model dengan tipe Sequential\n",
        "\n",
        "Model = Sequential(\n",
        "    [\n",
        "     # Activation menggunakan relu + softmax\n",
        "     Conv2D(32, (3,3), strides = (1,1), activation = 'relu' , input_shape = (img_width,img_height,3)),\n",
        "     MaxPooling2D(pool_size = (2,2), padding = 'valid'),\n",
        "     Conv2D(64, (3,3), strides = (1,1), activation = 'relu' ),\n",
        "     MaxPooling2D(pool_size = (2,2), padding = 'valid'),\n",
        "     Conv2D(128, (3,3), strides = (1,1), activation = 'relu' ),\n",
        "     MaxPooling2D(pool_size = (2,2), padding = 'valid'),\n",
        "     Flatten(),\n",
        "\n",
        "     # Droupout\n",
        "     Dropout(0.2),\n",
        "     \n",
        "     Dense(128, activation = 'relu'),\n",
        "     Dense(3, activation='softmax')\n",
        "    ]\n",
        ")"
      ],
      "execution_count": null,
      "outputs": []
    },
    {
      "cell_type": "markdown",
      "metadata": {
        "id": "hGbSAIMGE5pL"
      },
      "source": [
        "**Model Compile menggunakan Optimizer**"
      ]
    },
    {
      "cell_type": "code",
      "metadata": {
        "id": "yx-mGkapP4Gr"
      },
      "source": [
        "# Penggunaan Optimizer 'Adam' dengan learning rate 0.00146\n",
        "Adam(learning_rate=0.00146, name='Adam')\n",
        "Model.compile(optimizer = 'Adam',loss = 'categorical_crossentropy',metrics = ['accuracy'])"
      ],
      "execution_count": null,
      "outputs": []
    },
    {
      "cell_type": "markdown",
      "metadata": {
        "id": "U7DcZCSeTanm"
      },
      "source": [
        "**Proses Training Dataset + Penggunaan Callbacks**"
      ]
    },
    {
      "cell_type": "code",
      "metadata": {
        "id": "5W55NiKroe-5",
        "colab": {
          "base_uri": "https://localhost:8080/",
          "height": 521
        },
        "outputId": "4000b549-369f-42ef-d12d-34e9a1429f6c"
      },
      "source": [
        "# Proses Training \n",
        "batch_size = 16\n",
        "\n",
        "# Mengatur Jumlah Validation Steps\n",
        "Validation_steps = Validation_generator.samples / Validation_generator.batch_size -1\n",
        "\n",
        "# Penggunaan Callbacks dengan fungsi EarlyStopping dengan memonitoring Val_Loss\n",
        "callback = EarlyStopping(\n",
        "    monitor = 'val_loss',\n",
        "    min_delta = 0.001,\n",
        "    patience = 3,\n",
        "    verbose = 1,\n",
        "    mode = 'auto'\n",
        ")\n",
        "\n",
        "Model.fit_generator(\n",
        "    Train_generator,\n",
        "    steps_per_epoch = 50,\n",
        "    epochs = 25,\n",
        "    verbose = 1,\n",
        "    validation_data = Validation_generator,\n",
        "    validation_steps = Validation_steps,\n",
        "    callbacks=[callback]\n",
        ")"
      ],
      "execution_count": null,
      "outputs": [
        {
          "output_type": "stream",
          "text": [
            "Epoch 1/25\n",
            "50/50 [==============================] - 54s 1s/step - loss: 1.1163 - accuracy: 0.3804 - val_loss: 1.0284 - val_accuracy: 0.5058\n",
            "Epoch 2/25\n",
            "50/50 [==============================] - 53s 1s/step - loss: 0.8769 - accuracy: 0.6145 - val_loss: 0.7363 - val_accuracy: 0.6898\n",
            "Epoch 3/25\n",
            "50/50 [==============================] - 58s 1s/step - loss: 0.5998 - accuracy: 0.7875 - val_loss: 0.6577 - val_accuracy: 0.7512\n",
            "Epoch 4/25\n",
            "50/50 [==============================] - 53s 1s/step - loss: 0.4735 - accuracy: 0.8244 - val_loss: 0.3831 - val_accuracy: 0.8669\n",
            "Epoch 5/25\n",
            "50/50 [==============================] - 54s 1s/step - loss: 0.3652 - accuracy: 0.8715 - val_loss: 0.2687 - val_accuracy: 0.9062\n",
            "Epoch 6/25\n",
            "50/50 [==============================] - 55s 1s/step - loss: 0.2372 - accuracy: 0.9211 - val_loss: 0.2572 - val_accuracy: 0.9086\n",
            "Epoch 7/25\n",
            "50/50 [==============================] - 54s 1s/step - loss: 0.2304 - accuracy: 0.9300 - val_loss: 0.1739 - val_accuracy: 0.9491\n",
            "Epoch 8/25\n",
            "50/50 [==============================] - 55s 1s/step - loss: 0.1991 - accuracy: 0.9351 - val_loss: 0.1793 - val_accuracy: 0.9375\n",
            "Epoch 9/25\n",
            "50/50 [==============================] - 55s 1s/step - loss: 0.1568 - accuracy: 0.9588 - val_loss: 0.1626 - val_accuracy: 0.9502\n",
            "Epoch 10/25\n",
            "50/50 [==============================] - 52s 1s/step - loss: 0.1337 - accuracy: 0.9606 - val_loss: 0.1371 - val_accuracy: 0.9618\n",
            "Epoch 11/25\n",
            "50/50 [==============================] - 53s 1s/step - loss: 0.1890 - accuracy: 0.9338 - val_loss: 0.1733 - val_accuracy: 0.9444\n",
            "Epoch 12/25\n",
            "50/50 [==============================] - 52s 1s/step - loss: 0.2826 - accuracy: 0.9033 - val_loss: 0.2149 - val_accuracy: 0.9340\n",
            "Epoch 13/25\n",
            "50/50 [==============================] - 53s 1s/step - loss: 0.1322 - accuracy: 0.9529 - val_loss: 0.1592 - val_accuracy: 0.9514\n",
            "Epoch 00013: early stopping\n"
          ],
          "name": "stdout"
        },
        {
          "output_type": "execute_result",
          "data": {
            "text/plain": [
              "<tensorflow.python.keras.callbacks.History at 0x7f9f21ab7080>"
            ]
          },
          "metadata": {
            "tags": []
          },
          "execution_count": 121
        }
      ]
    },
    {
      "cell_type": "markdown",
      "metadata": {
        "id": "C40-YcHgP3YK"
      },
      "source": [
        "**Prediksi Hasil Model gambar antara Rock Paper Scissors**"
      ]
    },
    {
      "cell_type": "code",
      "metadata": {
        "id": "Jgn9iTxxTLI6",
        "colab": {
          "resources": {
            "http://localhost:8080/nbextensions/google.colab/files.js": {
              "data": "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",
              "ok": true,
              "headers": [
                [
                  "content-type",
                  "application/javascript"
                ]
              ],
              "status": 200,
              "status_text": ""
            }
          },
          "base_uri": "https://localhost:8080/",
          "height": 415
        },
        "outputId": "bcdc769c-5864-4ff7-96ca-b6d61b2a4daf"
      },
      "source": [
        "# Upload File ke google colabs\n",
        "uploaded = files.upload()\n",
        "\n",
        "# pengkondisian\n",
        "for file_upload in uploaded.keys():\n",
        "\n",
        "  path = file_upload\n",
        "  img = image.load_img(path, target_size=(150,150))\n",
        "  imgplot = plt.imshow(img)\n",
        "  x = image.img_to_array(img)\n",
        "  x = np.expand_dims(x, axis=0)\n",
        "\n",
        "  # Membuat numpy vstack array untuk hasil prediksi \n",
        "  images = np.vstack([x])\n",
        "  classes = Model.predict(images, batch_size=16)\n",
        "  \n",
        "  print(\"\\n\")\n",
        "  print('Hasil Prediksi : ',classes[0],'\\n')\n",
        "\n",
        "# Pengkondisian \n",
        "# Ketika array ke 0 = 1 maka tergolong Paper\n",
        "# Ketika array ke 1 = 1 maka tergolong Rock\n",
        "# Ketika array ke 2 = 1 maka tergolong Scissors\n",
        "  if classes[0][0] == 1:\n",
        "    print('Kategori Gambar : Paper')\n",
        "  elif classes[0][1] == 1:\n",
        "    print('Kategori Gambar : Rock')\n",
        "  else:\n",
        "    print('Kategori Gambar : Scissor')"
      ],
      "execution_count": null,
      "outputs": [
        {
          "output_type": "display_data",
          "data": {
            "text/html": [
              "\n",
              "     <input type=\"file\" id=\"files-76207119-c57c-4ca9-b1cf-fc20d0e649ba\" name=\"files[]\" multiple disabled\n",
              "        style=\"border:none\" />\n",
              "     <output id=\"result-76207119-c57c-4ca9-b1cf-fc20d0e649ba\">\n",
              "      Upload widget is only available when the cell has been executed in the\n",
              "      current browser session. Please rerun this cell to enable.\n",
              "      </output>\n",
              "      <script src=\"/nbextensions/google.colab/files.js\"></script> "
            ],
            "text/plain": [
              "<IPython.core.display.HTML object>"
            ]
          },
          "metadata": {
            "tags": []
          }
        },
        {
          "output_type": "stream",
          "text": [
            "Saving VFOCgVBUlL5Gp4Hh.png to VFOCgVBUlL5Gp4Hh.png\n",
            "\n",
            "\n",
            "Hasil Prediksi :  [1. 0. 0.] \n",
            "\n",
            "Kategori Gambar : Paper\n"
          ],
          "name": "stdout"
        },
        {
          "output_type": "display_data",
          "data": {
            "image/png": "[encoded data removed]",
            "text/plain": [
              "<Figure size 432x288 with 1 Axes>"
            ]
          },
          "metadata": {
            "tags": [],
            "needs_background": "light"
          }
        }
      ]
    }
  ]
}